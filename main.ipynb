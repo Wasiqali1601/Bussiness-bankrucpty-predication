{
 "cells": [
  {
   "cell_type": "code",
   "execution_count": null,
   "id": "f80e1436-592b-42bf-8aea-c90ed1c259e2",
   "metadata": {},
   "outputs": [],
   "source": [
    "# main.py\n",
    "\n",
    "from fastapi import FastAPI, UploadFile, File\n",
    "import pandas as pd\n",
    "import io\n",
    "import utils  \n",
    "\n",
    "app = FastAPI()\n",
    "df_data = None\n",
    "\n",
    "@app.post(\"/upload-data/\")\n",
    "async def upload_data(file: /home/student/Downloads/data.csv = File(...)):\n",
    "    global df_data\n",
    "    contents = await file.read()\n",
    "    df_data = pd.read_csv(io.BytesIO(contents))\n",
    "    return {\"message\": \"Data uploaded\", \"columns\": df_data.columns.tolist()}\n",
    "\n",
    "@app.post(\"/preprocess/\")\n",
    "async def preprocess_data():\n",
    "    global df_data\n",
    "    if df_data is None:\n",
    "        return {\"error\": \"No data found\"}\n",
    "    df_data = utils.drop_na(df_data)  \n",
    "    return {\"message\": \"Preprocessed\", \"rows\": len(df_data)}\n",
    "\n",
    "@app.post(\"/clean/\")\n",
    "async def clean_data():\n",
    "    global df_data\n",
    "    if df_data is None:\n",
    "        return {\"error\": \"No data found\"}\n",
    "    df_data = utils.remove_duplicates(df_data) \n",
    "    return {\"message\": \"Cleaned\", \"rows\": len(df_data)}\n"
   ]
  }
 ],
 "metadata": {
  "kernelspec": {
   "display_name": "Python 3 (ipykernel)",
   "language": "python",
   "name": "python3"
  },
  "language_info": {
   "codemirror_mode": {
    "name": "ipython",
    "version": 3
   },
   "file_extension": ".py",
   "mimetype": "text/x-python",
   "name": "python",
   "nbconvert_exporter": "python",
   "pygments_lexer": "ipython3",
   "version": "3.10.16"
  }
 },
 "nbformat": 4,
 "nbformat_minor": 5
}
